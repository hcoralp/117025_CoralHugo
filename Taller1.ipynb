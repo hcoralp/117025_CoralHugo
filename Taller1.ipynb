{
 "cells": [
  {
   "cell_type": "code",
   "execution_count": null,
   "metadata": {},
   "outputs": [],
   "source": [
    "'''\n",
    "Hugo Coral\n",
    "117025\n",
    "Grupo 5\n",
    "'''"
   ]
  },
  {
   "cell_type": "code",
   "execution_count": null,
   "metadata": {},
   "outputs": [],
   "source": [
    "'''\n",
    "Punto 1.\n",
    "\n",
    "Este programa calcula e imprime el valor absoluto \n",
    "de cualquier número(sea Entero o decimal).\n",
    "'''\n",
    "\n",
    "x=float(input(\"Digite un enterro:\")) # Este es el número al cual le vamos a\n",
    "                                     # calcular el valor absoluto.\n",
    "y=float((x**2)**(1/2)) # Para obtener el valor absoluto, elevamos al\n",
    "                       # cuadrado y le sacamos raíz cuadrada.\n",
    "print(\"El valor absoluto de\",x, \"es\",y,)"
   ]
  },
  {
   "cell_type": "code",
   "execution_count": 19,
   "metadata": {},
   "outputs": [
    {
     "name": "stdout",
     "output_type": "stream",
     "text": [
      "Digite un número entero:-678\n",
      "El número entero en reversa de -678 es - 876\n"
     ]
    }
   ],
   "source": [
    "'''\n",
    "Punto 2.\n",
    "\n",
    "Este programa lee un número entero y lo muestra en reversa.\n",
    "'''\n",
    "\n",
    "x=int(input(\"Digite un número entero:\"))\n",
    "y=str(x)\n",
    "if x<0: # Se tiene en cuenta el caso de que el número\n",
    "        # sea negativo para que el signo no se muestre al final.\n",
    "    x1=str(x*-1)\n",
    "    z=x1[::-1]  # Con este se muestra el número \n",
    "                # de atrás hacia adelante.\n",
    "    print(\"El número entero en reversa de\",x,\"es\",\"-\",z)\n",
    "\n",
    "else:\n",
    "    z=y[::-1]\n",
    "    print(\"El número entero en reversa  de\",x,\"es\",z)"
   ]
  },
  {
   "cell_type": "code",
   "execution_count": 23,
   "metadata": {},
   "outputs": [
    {
     "name": "stdout",
     "output_type": "stream",
     "text": [
      "Digite un número entero de máximo tres dígitos:856\n",
      "856 contiene el dígito 8\n"
     ]
    }
   ],
   "source": [
    "'''\n",
    "Punto 3.\n",
    "\n",
    "El programa lee un número entero de 3 dígitos \n",
    "y determina si contiene el dígito 8.\n",
    "'''\n",
    "\n",
    "x=input(\"Digite un número entero de máximo tres dígitos:\")\n",
    "z=\"8\"\n",
    "\n",
    "while len(x)>3: # Con esto especificamos que el número ingresado\n",
    "                # tenga como máximo tres dígitos.\n",
    "    x=input(\"Digite un número entero de máximo tres dígitos:\")\n",
    "    z=\"8\"\n",
    "\n",
    "if z in x:\n",
    "    print(x,\"contiene el dígito 8\")\n",
    "    \n",
    "else:\n",
    "    print(x,\"no contine el dígito 8\")"
   ]
  },
  {
   "cell_type": "code",
   "execution_count": 24,
   "metadata": {},
   "outputs": [
    {
     "name": "stdout",
     "output_type": "stream",
     "text": [
      "Digite un número entero: 562\n",
      "La suma de los números pares de 562 es 8\n"
     ]
    }
   ],
   "source": [
    "'''\n",
    "Punto 4.\n",
    "\n",
    "El programa lee un número entero positivo \n",
    "y determina la suma de sus dígitos pares.\n",
    "'''\n",
    "\n",
    "y=str(input(\"Digite un número entero: \"))\n",
    "x=list(y) # En esta lista se empieza a buscar los pares\n",
    "par=[]\n",
    "i=0\n",
    "j=0\n",
    "suma=0\n",
    "\n",
    "while i<len(x):\n",
    "    if int(x[i])%2==0:   # Con esto encontrmos los números pares\n",
    "        par.append(x[i]) # y los agrega a lista 'par[]'.\n",
    "        i+=1\n",
    "    else:\n",
    "        i+=1\n",
    "        \n",
    "while j<len(par):\n",
    "    suma=int(par[j])+suma # Suma los dígitos dentro de la lista 'par[]'.\n",
    "    j+=1\n",
    "\n",
    "print(\"La suma de los números pares de\",y, \"es\",suma)"
   ]
  },
  {
   "cell_type": "code",
   "execution_count": 25,
   "metadata": {},
   "outputs": [
    {
     "name": "stdout",
     "output_type": "stream",
     "text": [
      "Digite un número entero: 555675\n",
      "El número 555675 tiene 3 cincos consecutivos\n"
     ]
    }
   ],
   "source": [
    "'''\n",
    "Punto 5.\n",
    "Leer un número entero y determinar el número de cincos que están \n",
    "consecutivos en ese número.\n",
    "'''\n",
    "x=input(\"Digite un número entero: \")\n",
    "y=list(x)\n",
    "\n",
    "cincos=[] # Lista con cincos consecutivos.\n",
    "i=0\n",
    "j=1 # Con este índice se busca los cinco.\n",
    "k=0\n",
    "\n",
    "while j<len(y):\n",
    "    \n",
    "    if y[i]==\"5\" and y[j]==\"5\":\n",
    "        cincos.append(y[i])  # Agrega los cincos consecutivos a\n",
    "                             # la lista 'cincos[]'.\n",
    "        i+=1\n",
    "        j+=1\n",
    "    \n",
    "    elif y[i]==\"5\" and y[j]!=\"5\": # En caso de ...59... \n",
    "        k+=1                      # le agrega 1 a k.\n",
    "        j+=1\n",
    "        i+=1\n",
    "    else:\n",
    "         i+=1\n",
    "         j+=1\n",
    "         \n",
    "if y[0]==\"5\" and y[1]!=\"5\": # En caso de ...59... le agrega 1 a k.\n",
    "    k-=1\n",
    "if y[len(y)-2]==\"5\" and y[len(y)-1]==\"5\":\n",
    "    k+=1\n",
    "for j in range(len(y)-2):\n",
    "    if y[j]!=\"5\" and y[j+1]==\"5\" and y[j+2]!=\"5\":\n",
    "        \n",
    "        k-=1\n",
    "\n",
    "print(\"El número\",x,\"tiene\",len(cincos)+k,\"cincos consecutivos\")"
   ]
  },
  {
   "cell_type": "code",
   "execution_count": 29,
   "metadata": {},
   "outputs": [
    {
     "name": "stdout",
     "output_type": "stream",
     "text": [
      "Digite un número entero: 53\n",
      "La suma de los numeros 53 es 8 y está en la sucesión de Fibonacci\n"
     ]
    }
   ],
   "source": [
    "'''\n",
    "Punto 6.\n",
    "\n",
    "Leer un número entero y determinar si la suma de \n",
    "sus dígitos es un número de Fibonacci.\n",
    "'''\n",
    "\n",
    "def fib(n): # Como primer paso, se define la sucesión de Fibonacci.\n",
    "    Fibonacci=[]\n",
    "    a,b=1,1\n",
    "    while a<n:\n",
    "        Fibonacci.append(a)\n",
    "        a,b= b,b+a\n",
    "    return Fibonacci\n",
    "\n",
    "suma=0\n",
    "\n",
    "x=input(\"Digite un número entero: \")\n",
    "y=list(x)\n",
    "\n",
    "for i in range(len(y)):\n",
    "    suma=suma+int(y[i]) # Con esto se suma los dígitos de la entrada 'x'.\n",
    "\n",
    "lista=fib(suma+1)\n",
    "\n",
    "if suma in lista: # Revisa si la suma de los dígitos de la entrada 'x',\n",
    "                  # coincide con un número de Fibonacci.\n",
    "    print(\"La suma de los numeros\",x,\"es\",suma,\n",
    "          \"y está en la sucesión de Fibonacci\")\n",
    "    \n",
    "else:\n",
    "    print(\"La suma de los numeros\",x,\"es\",suma,\n",
    "          \"y no está en la sucesión de Fibonacci.\")"
   ]
  },
  {
   "cell_type": "code",
   "execution_count": 30,
   "metadata": {},
   "outputs": [
    {
     "name": "stdout",
     "output_type": "stream",
     "text": [
      "Ingrese un número entero: 2674400\n",
      "Los números repetidos en 2674400 son [4, 0]\n"
     ]
    }
   ],
   "source": [
    "'''\n",
    "Punto 7.\n",
    "\n",
    "El programa lee un número entero positivo y determina \n",
    "si existen en el número dígitos repetidos.\n",
    "'''\n",
    "x=input(\"Ingrese un número entero: \")\n",
    "y=list(x)\n",
    "r=[] # A esta lista se agregan los números repetidos.\n",
    "\n",
    "for i in range(len(y)):\n",
    "    for j in range(len(y)): # Con esto buscamos los números que se \n",
    "                            # encuentran repetidos.\n",
    "        if y[i]==y[j] and j!=i and y[i] not in r:\n",
    "            r.append(y[i])\n",
    "\n",
    "t=str(r).replace(\"'\",\"\")           \n",
    "\n",
    "if len(r)>0:\n",
    "    print(\"Los números repetidos en\",x,\"son\",t)\n",
    "else:\n",
    "    print(\"No hay números repetidos en\",x)"
   ]
  },
  {
   "cell_type": "code",
   "execution_count": 33,
   "metadata": {},
   "outputs": [
    {
     "name": "stdout",
     "output_type": "stream",
     "text": [
      "\n",
      "3 Es múltiplo de 3\n",
      "6 Es múltiplo de 3\n",
      "9 Es múltiplo de 3\n",
      "12 Es múltiplo de 3\n",
      "15 Es múltiplo de 3\n",
      "\n",
      "La cantidad de multiplos de 3 es  5\n",
      "\n",
      "16 Es múltiplo de 4\n",
      "20 Es múltiplo de 4\n",
      "24 Es múltiplo de 4\n",
      "28 Es múltiplo de 4\n",
      "32 Es múltiplo de 4\n",
      "36 Es múltiplo de 4\n",
      "40 Es múltiplo de 4\n",
      "44 Es múltiplo de 4\n",
      "48 Es múltiplo de 4\n",
      "52 Es múltiplo de 4\n",
      "56 Es múltiplo de 4\n",
      "60 Es múltiplo de 4\n",
      "64 Es múltiplo de 4\n",
      "68 Es múltiplo de 4\n",
      "72 Es múltiplo de 4\n",
      "76 Es múltiplo de 4\n",
      "80 Es múltiplo de 4\n",
      "84 Es múltiplo de 4\n",
      "88 Es múltiplo de 4\n",
      "92 Es múltiplo de 4\n",
      "96 Es múltiplo de 4\n",
      "100 Es múltiplo de 4\n",
      "\n",
      "La cantidad de multiplos de 4 es  22\n"
     ]
    }
   ],
   "source": [
    "'''\n",
    "Punto 8.\n",
    "\n",
    "Iterar a través de los primeros cien enteros positivos, buscando los múltiplos \n",
    "de 3 e imprimiendo y almacenándolos en una lista hasta encontrar los primeros \n",
    "15 de ellos. Una vez encontrados, continuar iterando en busca de los múltiplos \n",
    "de 4 y almacenarlos en otra lista.\n",
    "'''\n",
    "\n",
    "import numpy as np\n",
    "\n",
    "itr=100 # Cantidad de iteraciones a realizar.\n",
    "lim=15 # Número máximo de múltiplos de tres.\n",
    "cont3=0 # Contador para múltiplos de tres.\n",
    "cont4=0 # Contador para múltiplos de cuatro.\n",
    "\n",
    "x=np.zeros(lim+1) # Múltiplos de tres.\n",
    "y=np.zeros(itr+1) # Múltiplos de cuatro.\n",
    "\n",
    "print( )\n",
    "for i in range (1,lim+1):\n",
    "    x[i]=i        # Se busca los múltiplos del tres \n",
    "    if x[i]%3==0: # desde el 1 hasta el 15.\n",
    "        print (i, \"Es múltiplo de 3\")\n",
    "        cont3 += 1\n",
    "print( )       \n",
    "print (\"La cantidad de multiplos de 3 es \",cont3)\n",
    "\n",
    "print( ) \n",
    "for t in range (lim+1,itr+1):\n",
    "    y[t]=t\n",
    "    if y[t]%4==0: # Se busca los múltiplos del cuatro\n",
    "                  # desde el 16 hasta el 100.\n",
    "        print (t, \"Es múltiplo de 4\")\n",
    "        cont4 += 1\n",
    "\n",
    "print( )\n",
    "print (\"La cantidad de multiplos de 4 es \",cont4)"
   ]
  },
  {
   "cell_type": "code",
   "execution_count": 1,
   "metadata": {},
   "outputs": [
    {
     "name": "stdout",
     "output_type": "stream",
     "text": [
      "Digite las coordenadas (x1,y1,r1) del círculo 1, donde 'x1,y1' son el centro y 'r1' el radio del círculo 1\n",
      "Digite x1: 3\n",
      "Digite y1: 4\n",
      "Digite r1: 5\n",
      "Digite las coordenadas (x2,y2,r2) del círculo 2, donde 'x2,y2' son el centro y 'r2' el radio del círculo 2\n",
      "Digite x2: 2\n",
      "Digite y2: 4\n",
      "Digite r2: 6\n",
      "Digite una coordenada (a,b): \n",
      "Digite a: 4\n",
      "Digite b: 4\n",
      "4 , 4  Está en el círculo 1.\n",
      "4 , 4  Está en el círculo 2.\n",
      "4 , 4  Está en ambos círculos.\n"
     ]
    }
   ],
   "source": [
    "'''\n",
    "Punto 9.\n",
    "\n",
    "Hacer un programa que lea las coordenadas (x1,y1,r1) y (x2,y2,r2) \n",
    "que corresponden al centro y al radio de dos círculos. Lea un punto de \n",
    "coordenadas (a,b). \n",
    "Determina si (a,b) está contenido: \n",
    "    a) Dentro del círculo 1.\n",
    "    b) Dentro del círculo 2.\n",
    "    c) Dentro de ambos círculos. \n",
    "    d) Fuera de ambos círculos.\n",
    "'''\n",
    "\n",
    "cir1=[] # Guarda los datos de círculo 1.\n",
    "cir2=[] # Guarda los datos de círculo 2.\n",
    "\n",
    "print(\"Digite las coordenadas (x1,y1,r1) del círculo 1,\"\n",
    "      \" donde 'x1,y1' son el centro y 'r1' el radio del círculo 1\")\n",
    "\n",
    "cir1.append(input(\"Digite x1: \"))\n",
    "cir1.append(input(\"Digite y1: \"))\n",
    "cir1.append(input(\"Digite r1: \"))\n",
    "\n",
    "print(\"Digite las coordenadas (x2,y2,r2) del círculo 2,\"\n",
    "      \" donde 'x2,y2' son el centro y 'r2' el radio del círculo 2\")\n",
    "\n",
    "cir2.append(input(\"Digite x2: \")) # Aquí se pide ingresar las\n",
    "cir2.append(input(\"Digite y2: \")) # coordenadas del punto a evaluar.\n",
    "cir2.append(input(\"Digite r2: \"))\n",
    "\n",
    "print(\"Digite una coordenada (a,b): \")\n",
    "a=int(input(\"Digite a: \"))\n",
    "b=int(input(\"Digite b: \"))\n",
    "t=0 # Contador para saber en cuantos círculos está.\n",
    "\n",
    "if (a-int(cir1[0]))**2+(b-int(cir1[1]))**2<=(int(cir1[2]))**2: # Función del \n",
    "                                                               # círculo.\n",
    "    print(a,\",\",b,\" Está en el círculo 1.\")\n",
    "    t+=1\n",
    "\n",
    "if (a-int(cir2[0]))**2+(b-int(cir2[1]))**2<=(int(cir2[2]))**2:\n",
    "    print(a,\",\",b,\" Está en el círculo 2.\")\n",
    "    t+=1\n",
    "if t==2:\n",
    "    print(a,\",\",b,\" Está en ambos círculos.\")\n",
    "    \n",
    "if t==0:\n",
    "    print(a,\",\",b,\" Está fuera de los dos círculos.\")"
   ]
  },
  {
   "cell_type": "code",
   "execution_count": null,
   "metadata": {},
   "outputs": [],
   "source": [
    "'''\n",
    "Punto 10.\n",
    "\n",
    "Este programa lea una cadena de texto y la imprime en mayúscula.\n",
    "'''\n",
    "x=input(\"Escriba una cadena de texto: \")\n",
    "\n",
    "mi=\"abcdefghijklmnñopqrstuvwxyzáéíóúü\" # Alfabeto letras minúsculas\n",
    "may=\"ABCDEFGHIJKLMNÑOPQRSTUVWXYZÁÉÍÓÚÜ\" # Alfabeto letra mayúsculas\n",
    "x2=\"\" # Cadena en donde se agrgan la letras ya cambiadas\n",
    "z=0\n",
    "for i in range(len(x)): \n",
    "    if x[i] in mi:  \n",
    "        z=mi.find(x[i]) # A cada letra minúscula de 'x', se la reemplaza con\n",
    "        x2+=may[z]    # su mayúscula y se agrega a la cadena vacía 'x2'\n",
    "                      \n",
    "        \n",
    "    else:\n",
    "        x2+=x[i]\n",
    "print(\"Su cadena de texto en mayúscula es: \",x2)"
   ]
  },
  {
   "cell_type": "code",
   "execution_count": 8,
   "metadata": {},
   "outputs": [
    {
     "name": "stdout",
     "output_type": "stream",
     "text": [
      "Escriba una cadena:1 haA 2ÚóA\n",
      "Total de vocales en mayúscula:  3\n",
      "Total de dígitos:  2\n",
      "Total de letras con tilde:  2\n",
      "Total de espacios:  2\n"
     ]
    }
   ],
   "source": [
    "'''\n",
    "Punto 11.\n",
    "\n",
    "Este programa recibe una cadena de texto y reporta:\n",
    "- Letras vocales en mayúscula que se entraron.\n",
    "- Letras con tilde que se entraron (minúsculas y mayúsculas).\n",
    "- Dígitos que se entraron.\n",
    "- Espacios que se entraron.\n",
    "- Palabras reservadas que se entraron.\n",
    "'''\n",
    "\n",
    "x=input(\"Escriba una cadena:\") # Este es el texto a reportar.\n",
    "\n",
    "MAY=[] # Lista de vocales en mayúsculas.\n",
    "Til=[] # Lista de letras con tilde(minúsculas y mayúsculas incluidas).\n",
    "Num=[] # Lista de dígitos.\n",
    "Esp=[] # Lista de espacios.\n",
    "\n",
    "VM=\"AEIOUÁÉÍÓÚ\" # Cadena con vocales en mayúscula\n",
    "for j in range(len(x)):  \n",
    "        if x[j] in VM:   # Si en ´x´ se encuentra una vocal en mayúscula,\n",
    "                         # esta de agrega a Lista de vocales en mayúsculas.\n",
    "            MAY.append(x[j])\n",
    "print(\"Total de vocales en mayúscula: \",len(MAY))\n",
    "\n",
    "for n in range(48,57):   \n",
    "    for i in range(len(x)):\n",
    "        if x[i]==chr(n):  # Si en ´x´ se encuentra un dígito, este se \n",
    "                          # agrega a la lista de dígitos.\n",
    "            Num.append(x[i])\n",
    "print(\"Total de dígitos: \",len(Num))\n",
    "\n",
    "tilde=\"ÁÉÍÓÚáéíóú\"  \n",
    "for k in range(len(x)):\n",
    "    if x[k] in tilde:  # Si en ´x´ se encuentra una vocal con tilde, esta se\n",
    "                       # agrega a la lista de con tilde.\n",
    "                       # Minúsculas y mayúsculas incluidas.\n",
    "        Til.append(x[k])\n",
    "print(\"Total de letras con tilde: \",len(Til))\n",
    "\n",
    "for e in range(len(x)): \n",
    "    if x[e]==chr(32): # Si en ´x´ se encuentra un espacio, este se\n",
    "                      # agrega a la lista de espacios.\n",
    "        Esp.append(x[e])\n",
    "print(\"Total de espacios: \",len(Esp))"
   ]
  },
  {
   "cell_type": "code",
   "execution_count": 31,
   "metadata": {},
   "outputs": [
    {
     "name": "stdout",
     "output_type": "stream",
     "text": [
      "Escriba una palabra: pero\n",
      "Escriba otra: pera\n",
      "El orden de las palabras en el diccionario es ['pera', 'pero']\n"
     ]
    }
   ],
   "source": [
    "'''\n",
    "Punto 12.\n",
    "\n",
    "Este programa lee dos palabras y determina \n",
    "cual está primero en el diccionario.\n",
    "'''\n",
    "\n",
    "x=input(\"Escriba una palabra: \")\n",
    "y=input(\"Escriba otra: \")\n",
    "a=list(x.lower()) # Hacemos esto para poder comparar las dos palabras\n",
    "b=list(y.lower()) # en minúsculas.\n",
    "alf=\"aábcdeéfghiíjklmnñoópqrstuúüvwxyz\" # Este va a ser el orden del alfabeto\n",
    "lalf=list(alf)                          # el cual detreminará que palabra\n",
    "ord=[]                                  # se encuentra antes.\n",
    "i=0\n",
    "\n",
    "if len(x)<len(y):\n",
    "    while i<len(x):\n",
    "        if lalf.index(a[i])==lalf.index(b[i]): # Si la letra es igual pasa a\n",
    "            i+=1                               # la siguiente.\n",
    "        if lalf.index(a[i])<lalf.index(b[i]):  # Si una letra es menor a la\n",
    "            ord.append(x)                      # otra, decide que palabra\n",
    "            ord.append(y)                      # va primero.\n",
    "            break\n",
    "        if lalf.index(a[i])>lalf.index(b[i]):\n",
    "            ord.append(y)\n",
    "            ord.append(x)\n",
    "            break\n",
    "        \n",
    "if len(x)>len(y):\n",
    "    while i<len(b):\n",
    "        if lalf.index(a[i])==lalf.index(b[i]): # Si la letra es igual pasa a\n",
    "            i+=1                               # la siguiente.\n",
    "        if lalf.index(b[i])<lalf.index(a[i]):\n",
    "            ord.append(x)\n",
    "            ord.append(y)\n",
    "            break\n",
    "        if lalf.index(b[i])>lalf.index(a[i]):\n",
    "            ord.append(y)\n",
    "            ord.append(x)\n",
    "            break\n",
    "\n",
    "if len(x)==len(y):\n",
    "    while i<len(x):\n",
    "        if lalf.index(a[i])==lalf.index(b[i]):\n",
    "            i+1\n",
    "        if lalf.index(a[i])<lalf.index(b[i]):\n",
    "            ord.append(x)\n",
    "            ord.append(y)\n",
    "            break\n",
    "        if lalf.index(a[i])>lalf.index(b[i]):\n",
    "            ord.append(y)\n",
    "            ord.append(x)\n",
    "            break\n",
    "        if lalf.index(a[-1])<lalf.index(b[-1]): # Evalua la última letra \n",
    "            ord.append(x)                       # para decidir.\n",
    "            ord.append(y)\n",
    "            break\n",
    "        else:\n",
    "            ord.append(y)\n",
    "            ord.append(x)\n",
    "            break\n",
    "        \n",
    "          \n",
    "print(\"El orden de las palabras en el diccionario es\",ord)"
   ]
  },
  {
   "cell_type": "code",
   "execution_count": 9,
   "metadata": {},
   "outputs": [
    {
     "name": "stdout",
     "output_type": "stream",
     "text": [
      "Escriba una cadena de texto: Recuerden lavarse la carita con agua y con jabón como lo hace pin pon.\n",
      "                            R                            \n",
      "                           ecu                           \n",
      "                          erden                          \n",
      "                         lavarse                         \n",
      "                        lacaritac                        \n",
      "                       onaguayconj                       \n",
      "                      abóncomolohac                      \n",
      "                         epinpon.                        \n"
     ]
    }
   ],
   "source": [
    "'''\n",
    "Punto 13.\n",
    "\n",
    "El programa lee una cadena de texto y la imprime como un triángulo.\n",
    "'''\n",
    "\n",
    "a=input(\"Escriba una cadena de texto: \") # Texto que se va a mostrar como un\n",
    "                                         # triángulo.\n",
    "\n",
    "b=a.replace(\" \",\"\") # Con esto logramos quitar los espacios en el texto.\n",
    "c=len(b)\n",
    "i=0\n",
    "j=1\n",
    "while i<c:                           \n",
    "    print(b[i:i+(2*j-1)].center(c)) # Con esto logramos que se vaya mostrando\n",
    "                                    # el texto en varias lineas formando\n",
    "                                    # así un triángulo.\n",
    "    i=i+(2*j-1)\n",
    "    j+=1\n"
   ]
  },
  {
   "cell_type": "code",
   "execution_count": 10,
   "metadata": {},
   "outputs": [
    {
     "name": "stdout",
     "output_type": "stream",
     "text": [
      "Escriba una cadena de texto: esperó toda la tarde\n",
      "Su cadena de texto ordenada alfabeticamente es:  aaaddeeeloóprrstt\n"
     ]
    }
   ],
   "source": [
    "'''\n",
    "Punto 14.\n",
    "\n",
    "El program lee una cadena de texto y organiza alfabéticamente\n",
    "cada una de las letras que la componen, repitiendo cada una \n",
    "tantas veces como se encuentra.\n",
    "'''\n",
    "\n",
    "x=input(\"Escriba una cadena de texto: \") # Texto que se va a organizar de forma\n",
    "                                         # alfabética.\n",
    "y=x.lower()\n",
    "alf=\"aábcdeéfghiíjklmnñoópqrstuúüvwxyz\" # Orden de las letras que va a usar\n",
    "                                        # para organizar el texto.\n",
    "\n",
    "let=\"\"  # Cadena vacía donde se va organizando alfabéticamente las letras.\n",
    "\n",
    "for m in range(len(alf)):\n",
    "    for n in range(len(y)):\n",
    "        if y[n]==alf[m]:        # Con esto comparamos las letras del texto y\n",
    "                                # la posición que deberian llevar. Una vez\n",
    "                                # hecho esto, se agregan a la cadena vacía.\n",
    "                                \n",
    "            let = let + (y[n])\n",
    "\n",
    "print(\"Su cadena de texto ordenada alfabeticamente es: \",let)"
   ]
  },
  {
   "cell_type": "code",
   "execution_count": 11,
   "metadata": {},
   "outputs": [
    {
     "name": "stdout",
     "output_type": "stream",
     "text": [
      "Ingrese una lista de números: [1,3,4,5,5,7,7,7]\n",
      "El número 5 está exactamente dos veces en la lista.\n"
     ]
    }
   ],
   "source": [
    "'''\n",
    "Punto 15.\n",
    "\n",
    "El program leer una lista de números enteros y enumera\n",
    "cuantos elementos se repiten exactamente dos veces.\n",
    "'''\n",
    "\n",
    "x=eval(input(\"Ingrese una lista de números: \")) # Lista de elementos que se\n",
    "                                                # van a comparar.\n",
    "\n",
    "lis=[] # Lista vacía a la que se le van a \n",
    "       # agreagar los numeros que están repetidos dos veces.\n",
    "\n",
    "for i in range(min(x),max(x)+1):\n",
    "    if x.count(i) ==2: # Se está pidiendo que un número\n",
    "                       # esté exactamente dos veces.\n",
    "        \n",
    "        lis.append(i)  # Si un número se encuentra dos veces,este se agrega\n",
    "                       # a la lista vacía.\n",
    "        print(\"El número\",i,\"está exactamente dos veces en la lista.\")\n",
    "\n",
    "if len(lis)==0:\n",
    "    print(\"No hay números repetidos exactamente dos veces.\")"
   ]
  },
  {
   "cell_type": "code",
   "execution_count": null,
   "metadata": {},
   "outputs": [],
   "source": []
  }
 ],
 "metadata": {
  "kernelspec": {
   "display_name": "Python 3",
   "language": "python",
   "name": "python3"
  },
  "language_info": {
   "codemirror_mode": {
    "name": "ipython",
    "version": 3
   },
   "file_extension": ".py",
   "mimetype": "text/x-python",
   "name": "python",
   "nbconvert_exporter": "python",
   "pygments_lexer": "ipython3",
   "version": "3.7.3"
  }
 },
 "nbformat": 4,
 "nbformat_minor": 2
}
