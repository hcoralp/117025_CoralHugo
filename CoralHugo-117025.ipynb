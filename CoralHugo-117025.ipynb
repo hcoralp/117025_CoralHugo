{
 "cells": [
  {
   "cell_type": "code",
   "execution_count": null,
   "metadata": {},
   "outputs": [],
   "source": [
    "'''\n",
    "Punto 10.\n",
    "\n",
    "Este programa lea una cadena de texto y la imprime en mayúscula.\n",
    "'''\n",
    "x=input(\"Escriba una cadena de texto: \")\n",
    "\n",
    "mi=\"abcdefghijklmnñopqrstuvwxyzáéíóúü\" # Alfabeto letras minúsculas\n",
    "may=\"ABCDEFGHIJKLMNÑOPQRSTUVWXYZÁÉÍÓÚÜ\" # Alfabeto letra mayúsculas\n",
    "x2=\"\" # Cadena en donde se agrgan la letras ya cambiadas\n",
    "z=0\n",
    "for i in range(len(x)): \n",
    "    if x[i] in mi:  \n",
    "        z=mi.find(x[i]) # A cada letra minúscula de 'x', se la reemplaza con\n",
    "        x2+=may[z]    # su mayúscula y se agrega a la cadena vacía 'x2'\n",
    "                      \n",
    "        \n",
    "    else:\n",
    "        x2+=x[i]\n",
    "print(\"Su cadena de texto en mayúscula es: \",x2)"
   ]
  },
  {
   "cell_type": "code",
   "execution_count": 8,
   "metadata": {},
   "outputs": [
    {
     "name": "stdout",
     "output_type": "stream",
     "text": [
      "Escriba una cadena:1 haA 2ÚóA\n",
      "Total de vocales en mayúscula:  3\n",
      "Total de dígitos:  2\n",
      "Total de letras con tilde:  2\n",
      "Total de espacios:  2\n"
     ]
    }
   ],
   "source": [
    "'''\n",
    "Punto 11.\n",
    "\n",
    "Este programa recibe una cadena de texto y reporta:\n",
    "- Letras vocales en mayúscula que se entraron.\n",
    "- Letras con tilde que se entraron (minúsculas y mayúsculas).\n",
    "- Dígitos que se entraron.\n",
    "- Espacios que se entraron.\n",
    "- Palabras reservadas que se entraron.\n",
    "'''\n",
    "\n",
    "x=input(\"Escriba una cadena:\") # Este es el texto a reportar.\n",
    "\n",
    "MAY=[] # Lista de vocales en mayúsculas.\n",
    "Til=[] # Lista de letras con tilde(minúsculas y mayúsculas incluidas).\n",
    "Num=[] # Lista de dígitos.\n",
    "Esp=[] # Lista de espacios.\n",
    "\n",
    "VM=\"AEIOUÁÉÍÓÚ\" # Cadena con vocales en mayúscula\n",
    "for j in range(len(x)):  \n",
    "        if x[j] in VM:   # Si en ´x´ se encuentra una vocal en mayúscula,\n",
    "                         # esta de agrega a Lista de vocales en mayúsculas.\n",
    "            MAY.append(x[j])\n",
    "print(\"Total de vocales en mayúscula: \",len(MAY))\n",
    "\n",
    "for n in range(48,57):   \n",
    "    for i in range(len(x)):\n",
    "        if x[i]==chr(n):  # Si en ´x´ se encuentra un dígito, este se \n",
    "                          # agrega a la lista de dígitos.\n",
    "            Num.append(x[i])\n",
    "print(\"Total de dígitos: \",len(Num))\n",
    "\n",
    "tilde=\"ÁÉÍÓÚáéíóú\"  \n",
    "for k in range(len(x)):\n",
    "    if x[k] in tilde:  # Si en ´x´ se encuentra una vocal con tilde, esta se\n",
    "                       # agrega a la lista de con tilde.\n",
    "                       # Minúsculas y mayúsculas incluidas.\n",
    "        Til.append(x[k])\n",
    "print(\"Total de letras con tilde: \",len(Til))\n",
    "\n",
    "for e in range(len(x)): \n",
    "    if x[e]==chr(32): # Si en ´x´ se encuentra un espacio, este se\n",
    "                      # agrega a la lista de espacios.\n",
    "        Esp.append(x[e])\n",
    "print(\"Total de espacios: \",len(Esp))"
   ]
  },
  {
   "cell_type": "code",
   "execution_count": null,
   "metadata": {},
   "outputs": [],
   "source": [
    "punto 12"
   ]
  },
  {
   "cell_type": "code",
   "execution_count": 9,
   "metadata": {},
   "outputs": [
    {
     "name": "stdout",
     "output_type": "stream",
     "text": [
      "Escriba una cadena de texto: Recuerden lavarse la carita con agua y con jabón como lo hace pin pon.\n",
      "                            R                            \n",
      "                           ecu                           \n",
      "                          erden                          \n",
      "                         lavarse                         \n",
      "                        lacaritac                        \n",
      "                       onaguayconj                       \n",
      "                      abóncomolohac                      \n",
      "                         epinpon.                        \n"
     ]
    }
   ],
   "source": [
    "'''\n",
    "Punto 13.\n",
    "\n",
    "El programa lee una cadena de texto y la imprime como un triángulo.\n",
    "'''\n",
    "\n",
    "a=input(\"Escriba una cadena de texto: \") # Texto que se va a mostrar como un\n",
    "                                         # triángulo.\n",
    "\n",
    "b=a.replace(\" \",\"\") # Con esto logramos quitar los espacios en el texto.\n",
    "c=len(b)\n",
    "i=0\n",
    "j=1\n",
    "while i<c:                           \n",
    "    print(b[i:i+(2*j-1)].center(c)) # Con esto logramos que se vaya mostrando\n",
    "                                    # el texto en varias lineas formando\n",
    "                                    # así un triángulo.\n",
    "    i=i+(2*j-1)\n",
    "    j+=1\n"
   ]
  },
  {
   "cell_type": "code",
   "execution_count": 10,
   "metadata": {},
   "outputs": [
    {
     "name": "stdout",
     "output_type": "stream",
     "text": [
      "Escriba una cadena de texto: esperó toda la tarde\n",
      "Su cadena de texto ordenada alfabeticamente es:  aaaddeeeloóprrstt\n"
     ]
    }
   ],
   "source": [
    "'''\n",
    "Punto 14.\n",
    "\n",
    "El program lee una cadena de texto y organiza alfabéticamente\n",
    "cada una de las letras que la componen, repitiendo cada una \n",
    "tantas veces como se encuentra.\n",
    "'''\n",
    "\n",
    "x=input(\"Escriba una cadena de texto: \") # Texto que se va a organizar de forma\n",
    "                                         # alfabética.\n",
    "y=x.lower()\n",
    "alf=\"aábcdeéfghiíjklmnñoópqrstuúüvwxyz\" # Orden de las letras que va a usar\n",
    "                                        # para organizar el texto.\n",
    "\n",
    "let=\"\"  # Cadena vacía donde se va organizando alfabéticamente las letras.\n",
    "\n",
    "for m in range(len(alf)):\n",
    "    for n in range(len(y)):\n",
    "        if y[n]==alf[m]:        # Con esto comparamos las letras del texto y\n",
    "                                # la posición que deberian llevar. Una vez\n",
    "                                # hecho esto, se agregan a la cadena vacía.\n",
    "                                \n",
    "            let = let + (y[n])\n",
    "\n",
    "print(\"Su cadena de texto ordenada alfabeticamente es: \",let)"
   ]
  },
  {
   "cell_type": "code",
   "execution_count": 11,
   "metadata": {},
   "outputs": [
    {
     "name": "stdout",
     "output_type": "stream",
     "text": [
      "Ingrese una lista de números: [1,3,4,5,5,7,7,7]\n",
      "El número 5 está exactamente dos veces en la lista.\n"
     ]
    }
   ],
   "source": [
    "'''\n",
    "Punto 15.\n",
    "\n",
    "El program leer una lista de números enteros y enumera\n",
    "cuantos elementos se repiten exactamente dos veces.\n",
    "'''\n",
    "\n",
    "x=eval(input(\"Ingrese una lista de números: \")) # Lista de elementos que se\n",
    "                                                # van a comparar.\n",
    "\n",
    "lis=[] # Lista vacía a la que se le van a \n",
    "       # agreagar los numeros que están repetidos dos veces.\n",
    "\n",
    "for i in range(min(x),max(x)+1):\n",
    "    if x.count(i) ==2: # Se está pidiendo que un número\n",
    "                       # esté exactamente dos veces.\n",
    "        \n",
    "        lis.append(i)  # Si un número se encuentra dos veces,este se agrega\n",
    "                       # a la lista vacía.\n",
    "        print(\"El número\",i,\"está exactamente dos veces en la lista.\")\n",
    "\n",
    "if len(lis)==0:\n",
    "    print(\"No hay números repetidos exactamente dos veces.\")"
   ]
  },
  {
   "cell_type": "code",
   "execution_count": null,
   "metadata": {},
   "outputs": [],
   "source": []
  }
 ],
 "metadata": {
  "kernelspec": {
   "display_name": "Python 3",
   "language": "python",
   "name": "python3"
  },
  "language_info": {
   "codemirror_mode": {
    "name": "ipython",
    "version": 3
   },
   "file_extension": ".py",
   "mimetype": "text/x-python",
   "name": "python",
   "nbconvert_exporter": "python",
   "pygments_lexer": "ipython3",
   "version": "3.7.3"
  }
 },
 "nbformat": 4,
 "nbformat_minor": 2
}
